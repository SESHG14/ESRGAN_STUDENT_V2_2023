{
  "nbformat": 4,
  "nbformat_minor": 0,
  "metadata": {
    "colab": {
      "provenance": [],
      "machine_shape": "hm",
      "gpuType": "T4",
      "mount_file_id": "1EBUvwqDmJ58rluMPJyO2Mtou_F7relbM",
      "authorship_tag": "ABX9TyPXsovZQ32KmXX9lo0+cTsu",
      "include_colab_link": true
    },
    "kernelspec": {
      "name": "python3",
      "display_name": "Python 3"
    },
    "language_info": {
      "name": "python"
    },
    "accelerator": "GPU"
  },
  "cells": [
    {
      "cell_type": "markdown",
      "metadata": {
        "id": "view-in-github",
        "colab_type": "text"
      },
      "source": [
        "<a href=\"https://colab.research.google.com/github/SESHG14/ESRGAN_STUDENT_V2_2023/blob/main/ESRGAN_Student_2.ipynb\" target=\"_parent\"><img src=\"https://colab.research.google.com/assets/colab-badge.svg\" alt=\"Open In Colab\"/></a>"
      ]
    },
    {
      "cell_type": "code",
      "source": [
        "import os\n",
        "import cv2\n",
        "import numpy as np\n",
        "import math\n",
        "import matplotlib.pyplot as plt\n",
        "from keras.models import Sequential\n",
        "from keras import layers, Model\n",
        "from sklearn.model_selection import train_test_split\n",
        "from IPython.display import clear_output\n",
        "\n",
        "import tensorflow as tf\n",
        "import torch\n",
        "import numpy as np\n",
        "from keras import Model\n",
        "from keras.layers import Conv2D, PReLU,BatchNormalization, Flatten\n",
        "from keras.layers import UpSampling2D, LeakyReLU, Dense, Input, add"
      ],
      "metadata": {
        "id": "N3ftoarvUmZG"
      },
      "execution_count": 1,
      "outputs": []
    },
    {
      "cell_type": "code",
      "source": [
        "def res_block(ip, filters):\n",
        "\n",
        "    temp = ip\n",
        "\n",
        "    # 1 - initial\n",
        "    res_model = Conv2D(filters, (3,3), padding = \"same\")(ip)\n",
        "    res_model = LeakyReLU(alpha=0.2)(res_model)\n",
        "    res_model = add([temp,res_model])\n",
        "\n",
        "    # 2\n",
        "    temp = res_model\n",
        "    res_model = Conv2D(filters, (3,3), padding = \"same\")(res_model)\n",
        "    res_model = LeakyReLU(alpha=0.2)(res_model)\n",
        "    res_model = add([temp,res_model])\n",
        "    # 3\n",
        "    temp = res_model\n",
        "    res_model = Conv2D(filters, (3,3), padding = \"same\")(res_model)\n",
        "    res_model = LeakyReLU(alpha=0.2)(res_model)\n",
        "    res_model = add([temp,res_model])\n",
        "    # 4\n",
        "    temp = res_model\n",
        "    res_model = Conv2D(filters, (3,3), padding = \"same\")(res_model)\n",
        "    res_model = LeakyReLU(alpha=0.2)(res_model)\n",
        "    res_model = add([temp,res_model])\n",
        "    # Final Convolution\n",
        "    res_model = Conv2D(filters, (3,3), padding = \"same\")(res_model)\n",
        "\n",
        "    #res_model = Conv2D(64, (3,3), padding = \"same\")(res_model)\n",
        "    res_model = BatchNormalization(momentum = 0.5)(res_model)\n",
        "\n",
        "    return add([ip,res_model])\n",
        "\n",
        "\n",
        "def res_in_res_block(ip, filters):\n",
        "\n",
        "    #1\n",
        "    compound_res = res_block(ip, filters)\n",
        "    #2\n",
        "    compound_res = res_block(compound_res, filters)\n",
        "    #3\n",
        "    compound_res = res_block(compound_res, filters)\n",
        "\n",
        "    return add([ip,compound_res])\n",
        "\n",
        "\n",
        "def upscale_block(ip):\n",
        "\n",
        "    up_model = Conv2D(256, (3,3), padding=\"same\")(ip)\n",
        "    up_model = UpSampling2D( size = 2 )(up_model)\n",
        "    #up_model = PReLU(shared_axes=[1,2])(up_model)\n",
        "    up_model = LeakyReLU(alpha=0.2)(up_model)\n",
        "\n",
        "    return up_model\n",
        "\n",
        "# Proposed ESRGAN Generator\n",
        "def create_gen(gen_ip, num_res_block, filters):\n",
        "    layers = Conv2D(filters, (9,9), padding=\"same\")(gen_ip)\n",
        "    #layers = PReLU(shared_axes=[1,2])(layers)\n",
        "    layers = LeakyReLU(alpha=0.2)(layers)\n",
        "\n",
        "    temp = layers\n",
        "\n",
        "    for i in range(num_res_block):\n",
        "        layers = res_in_res_block(layers, filters)\n",
        "\n",
        "    layers = Conv2D(filters, (3,3), padding=\"same\")(layers)\n",
        "    layers = BatchNormalization(momentum=0.5)(layers)\n",
        "    layers = add([layers,temp])\n",
        "\n",
        "    layers = upscale_block(layers)\n",
        "    layers = upscale_block(layers)\n",
        "\n",
        "    #layers = Conv2D(64, (3,3), padding=\"same\")(layers)\n",
        "    op = Conv2D(3, (9,9), padding=\"same\")(layers)\n",
        "\n",
        "    return Model(inputs=gen_ip, outputs=op)\n",
        "\n",
        "\n",
        "#Descriminator block that will be used to construct the discriminator\n",
        "def discriminator_block(ip, filters, strides=1, bn=True):\n",
        "\n",
        "    disc_model = Conv2D(filters, (3,3), strides = strides, padding=\"same\")(ip)\n",
        "\n",
        "    if bn:\n",
        "        disc_model = BatchNormalization( momentum=0.8 )(disc_model)\n",
        "\n",
        "    disc_model = LeakyReLU( alpha=0.2 )(disc_model)\n",
        "\n",
        "    return disc_model\n",
        "\n",
        "#Descriminartor, as described in the original paper\n",
        "def create_disc(disc_ip):\n",
        "\n",
        "    df = 64\n",
        "\n",
        "    d1 = discriminator_block(disc_ip, df, bn=False)\n",
        "    d2 = discriminator_block(d1, df, strides=2)\n",
        "    d3 = discriminator_block(d2, df*2)\n",
        "    d4 = discriminator_block(d3, df*2, strides=2)\n",
        "    d5 = discriminator_block(d4, df*4)\n",
        "    d6 = discriminator_block(d5, df*4, strides=2)\n",
        "    d7 = discriminator_block(d6, df*8)\n",
        "    d8 = discriminator_block(d7, df*8, strides=2)\n",
        "\n",
        "    d8_5 = Flatten()(d8)\n",
        "    d9 = Dense(df*16)(d8_5)\n",
        "    d10 = LeakyReLU(alpha=0.2)(d9)\n",
        "    validity = Dense(1, activation='sigmoid')(d10)\n",
        "\n",
        "    return Model(disc_ip, validity)\n",
        "\n",
        "#VGG19 for the feature map obtained by the j-th convolution (after activation)\n",
        "#before the i-th maxpooling layer within the VGG19 network.(as described in the paper)\n",
        "#Build a pre-trained VGG19 model that outputs image features extracted at the\n",
        "# third block of the model\n",
        "# VGG architecture: https://github.com/keras-team/keras/blob/master/keras/applications/vgg19.py\n",
        "from keras.applications import VGG19\n",
        "\n",
        "def build_vgg(hr_shape):\n",
        "\n",
        "    vgg = VGG19(weights=\"imagenet\",include_top=False, input_shape=hr_shape)\n",
        "\n",
        "    return Model(inputs=vgg.inputs, outputs=vgg.layers[10].output)\n",
        "\n",
        "#Combined model\n",
        "def create_comb(gen_model, disc_model, vgg, lr_ip, hr_ip):\n",
        "    gen_img = gen_model(lr_ip)\n",
        "\n",
        "    gen_features = vgg(gen_img)\n",
        "\n",
        "    disc_model.trainable = False\n",
        "    validity = disc_model(gen_img)\n",
        "\n",
        "    return Model(inputs=[lr_ip, hr_ip], outputs=[gen_img, gen_features])\n",
        "    #return Model(inputs=lr_ip, outputs= gen_img)"
      ],
      "metadata": {
        "id": "lbzvZUagxarI"
      },
      "execution_count": null,
      "outputs": []
    },
    {
      "cell_type": "markdown",
      "source": [
        "# LR SCHEDULERS for Gen and Disc"
      ],
      "metadata": {
        "id": "e26ifIoinY8m"
      }
    },
    {
      "cell_type": "code",
      "source": [
        "import tensorflow as tf\n",
        "\n",
        "def MultiStepLR(initial_learning_rate, lr_steps, lr_rate, name='MultiStepLR'):\n",
        "    \"\"\"Multi-steps learning rate scheduler.\"\"\"\n",
        "    lr_steps_value = [initial_learning_rate]\n",
        "    for _ in range(len(lr_steps)):\n",
        "        lr_steps_value.append(lr_steps_value[-1] * lr_rate)\n",
        "    return tf.keras.optimizers.schedules.PiecewiseConstantDecay(\n",
        "        boundaries=lr_steps, values=lr_steps_value)\n",
        "\n",
        "\n",
        "def CosineAnnealingLR_Restart(initial_learning_rate, t_period, lr_min):\n",
        "    \"\"\"Cosine annealing learning rate scheduler with restart.\"\"\"\n",
        "    return tf.keras.experimental.CosineDecayRestarts(\n",
        "        initial_learning_rate=initial_learning_rate,\n",
        "        first_decay_steps=t_period, t_mul=1.0, m_mul=1.0,\n",
        "        alpha=lr_min / initial_learning_rate)\n",
        "\n",
        "\n",
        "\n",
        "    # pretrain PSNR lr scheduler\n",
        "lr_scheduler_D = MultiStepLR(1e-4, [50000, 100000, 200000, 300000], 0.5)\n",
        "\n",
        "    # ESRGAN lr scheduler\n",
        "lr_scheduler_G = MultiStepLR(1e-4, [50000, 100000, 200000, 300000], 0.5)\n",
        "\n",
        "    # Cosine Annealing lr scheduler\n",
        "    # lr_scheduler = CosineAnnealingLR_Restart(2e-4, 250000, 1e-7)\n",
        "\n",
        "    ##############################\n",
        "    # Draw figure\n",
        "    ##############################\n",
        "N_iter = 1000000\n",
        "step_list = list(range(0, N_iter, 1000))\n",
        "lr_list = []\n",
        "for i in step_list:\n",
        "     current_lr = lr_scheduler_G(i).numpy()\n",
        "     lr_list.append(current_lr)\n",
        "\n",
        "import matplotlib as mpl\n",
        "from matplotlib import pyplot as plt\n",
        "import matplotlib.ticker as mtick\n",
        "mpl.style.use('default')\n",
        "import seaborn\n",
        "seaborn.set(style='whitegrid')\n",
        "seaborn.set_context('paper')\n",
        "\n",
        "plt.figure(1)\n",
        "plt.subplot(111)\n",
        "plt.ticklabel_format(style='sci', axis='x', scilimits=(0, 0))\n",
        "plt.title('Title', fontsize=16, color='k')\n",
        "plt.plot(step_list, lr_list, linewidth=1.5, label='learning rate scheme')\n",
        "legend = plt.legend(loc='upper right', shadow=False)\n",
        "ax = plt.gca()\n",
        "labels = ax.get_xticks().tolist()\n",
        "for k, v in enumerate(labels):\n",
        "    labels[k] = str(int(v / 1000)) + 'K'\n",
        "ax.set_xticklabels(labels)\n",
        "ax.yaxis.set_major_formatter(mtick.FormatStrFormatter('%.1e'))\n",
        "\n",
        "ax.set_ylabel('Learning rate')\n",
        "ax.set_xlabel('Iteration')\n",
        "fig = plt.gcf()\n",
        "plt.show()"
      ],
      "metadata": {
        "id": "HSbqUHSjnN3F",
        "colab": {
          "base_uri": "https://localhost:8080/",
          "height": 509
        },
        "outputId": "18c84659-6372-4cce-9385-498ff0bc7be9"
      },
      "execution_count": null,
      "outputs": [
        {
          "output_type": "stream",
          "name": "stderr",
          "text": [
            "<ipython-input-3-69a10137f657>:58: UserWarning: FixedFormatter should only be used together with FixedLocator\n",
            "  ax.set_xticklabels(labels)\n"
          ]
        },
        {
          "output_type": "display_data",
          "data": {
            "text/plain": [
              "<Figure size 640x480 with 1 Axes>"
            ],
            "image/png": "[encoded data removed]"
          },
          "metadata": {}
        }
      ]
    },
    {
      "cell_type": "markdown",
      "source": [
        "# Implementation\n",
        "\n",
        "1. Load dataset.\n",
        "2. Compile the Student Model.\n",
        "3. Load the Teacher model.\n",
        "4. Initialize optimizers.\n",
        "5. Execute adversarial training step."
      ],
      "metadata": {
        "id": "-2yMj47lLO7m"
      }
    },
    {
      "cell_type": "code",
      "source": [
        "n=5000\n",
        "lr_list = os.listdir(\"/content/drive/MyDrive/Image datasets/data/lr_images\")[:n]\n",
        "lr_list.sort\n",
        "\n",
        "lr_images = []\n",
        "for img in lr_list:\n",
        "    img_lr = cv2.imread(\"/content/drive/MyDrive/Image datasets/data/lr_images/\" + img)\n",
        "    img_lr = cv2.cvtColor(img_lr, cv2.COLOR_BGR2RGB)\n",
        "    lr_images.append(img_lr)\n",
        "\n",
        "\n",
        "hr_list = os.listdir(\"/content/drive/MyDrive/Image datasets/data/hr_images\")[:n]\n",
        "hr_list.sort\n",
        "\n",
        "hr_images = []\n",
        "for img in hr_list:\n",
        "    img_hr = cv2.imread(\"/content/drive/MyDrive/Image datasets/data/hr_images/\" + img)\n",
        "    img_hr = cv2.cvtColor(img_hr, cv2.COLOR_BGR2RGB)\n",
        "    hr_images.append(img_hr)\n",
        "\n",
        "lr_images = np.array(lr_images)\n",
        "hr_images = np.array(hr_images)"
      ],
      "metadata": {
        "id": "OkVoxYDOLOE5"
      },
      "execution_count": 2,
      "outputs": []
    },
    {
      "cell_type": "markdown",
      "source": [
        "Normalize input"
      ],
      "metadata": {
        "id": "MGCl9KctMBK-"
      }
    },
    {
      "cell_type": "code",
      "source": [
        "#Scale values\n",
        "lr_images = lr_images / 255.\n",
        "hr_images = hr_images / 255.\n",
        "\n",
        "#Split into train and test sets\n",
        "lr_train, lr_test, hr_train, hr_test = train_test_split(lr_images, hr_images,\n",
        "                                                      test_size=0.2, random_state=42)"
      ],
      "metadata": {
        "id": "1PAOp7plME29"
      },
      "execution_count": 3,
      "outputs": []
    },
    {
      "cell_type": "code",
      "source": [
        "optimizer_G = tf.keras.optimizers.Adam(learning_rate=lr_scheduler_G,\n",
        "                                       beta_1=0.9,\n",
        "                                       beta_2=0.999)\n",
        "optimizer_G.build\n",
        "\n",
        "optimizer_D = tf.keras.optimizers.Adam(learning_rate=lr_scheduler_D,\n",
        "                                       beta_1=0.9,\n",
        "                                       beta_2=0.999)\n",
        "optimizer_D.build"
      ],
      "metadata": {
        "id": "qcSn0-ojnsPV",
        "colab": {
          "base_uri": "https://localhost:8080/",
          "height": 245
        },
        "outputId": "83b69863-7686-42f2-d1b1-a3a3954aaa44"
      },
      "execution_count": 4,
      "outputs": [
        {
          "output_type": "error",
          "ename": "NameError",
          "evalue": "ignored",
          "traceback": [
            "\u001b[0;31m---------------------------------------------------------------------------\u001b[0m",
            "\u001b[0;31mNameError\u001b[0m                                 Traceback (most recent call last)",
            "\u001b[0;32m<ipython-input-4-5c64e27ba60b>\u001b[0m in \u001b[0;36m<cell line: 1>\u001b[0;34m()\u001b[0m\n\u001b[0;32m----> 1\u001b[0;31m optimizer_G = tf.keras.optimizers.Adam(learning_rate=lr_scheduler_G,\n\u001b[0m\u001b[1;32m      2\u001b[0m                                        \u001b[0mbeta_1\u001b[0m\u001b[0;34m=\u001b[0m\u001b[0;36m0.9\u001b[0m\u001b[0;34m,\u001b[0m\u001b[0;34m\u001b[0m\u001b[0;34m\u001b[0m\u001b[0m\n\u001b[1;32m      3\u001b[0m                                        beta_2=0.999)\n\u001b[1;32m      4\u001b[0m \u001b[0moptimizer_G\u001b[0m\u001b[0;34m.\u001b[0m\u001b[0mbuild\u001b[0m\u001b[0;34m\u001b[0m\u001b[0;34m\u001b[0m\u001b[0m\n\u001b[1;32m      5\u001b[0m \u001b[0;34m\u001b[0m\u001b[0m\n",
            "\u001b[0;31mNameError\u001b[0m: name 'lr_scheduler_G' is not defined"
          ]
        }
      ]
    },
    {
      "cell_type": "markdown",
      "source": [
        "# Student Structure"
      ],
      "metadata": {
        "id": "-GC9518ZrbXo"
      }
    },
    {
      "cell_type": "code",
      "source": [
        "hr_shape = (hr_train.shape[1], hr_train.shape[2], hr_train.shape[3])\n",
        "lr_shape = (lr_train.shape[1], lr_train.shape[2], lr_train.shape[3])\n",
        "\n",
        "lr_ip = Input(shape=lr_shape)\n",
        "hr_ip = Input(shape=hr_shape)\n",
        "\n",
        "#generator = create_gen(lr_ip, num_res_block = 16)\n",
        "generator = create_gen(lr_ip, num_res_block = 8, filters = 64)\n",
        "#generator.summary()\n",
        "\n",
        "discriminator = create_disc(hr_ip)\n",
        "discriminator.compile(loss=\"binary_crossentropy\", optimizer= optimizer_D, metrics=['accuracy'])\n",
        "#discriminator.summary()\n",
        "\n",
        "vgg = build_vgg((128,128,3))\n",
        "#print(vgg.summary())\n",
        "vgg.trainable = False\n",
        "\n",
        "gan_model = create_comb(generator, discriminator, vgg, lr_ip, hr_ip)\n",
        "\n",
        "# Cimpilation Parameters:\n",
        "# Loss: binary_crossentropy\n",
        "# Content: feature map obtained by the j-th convolution (after activation)\n",
        "# before the i-th maxpooling layer within the VGG19 network.\n",
        "# MSE between the feature representations of a reconstructed image\n",
        "# and the reference image.\n",
        "gan_model.compile(loss=[\"binary_crossentropy\", \"mse\"], loss_weights=[1e-3, 1], optimizer=optimizer_G)\n",
        "gan_model.summary()"
      ],
      "metadata": {
        "id": "6PIrpBqmM_1R",
        "colab": {
          "base_uri": "https://localhost:8080/"
        },
        "outputId": "6bc5c673-c18c-4b35-e775-ab6cc713115b"
      },
      "execution_count": null,
      "outputs": [
        {
          "output_type": "stream",
          "name": "stdout",
          "text": [
            "Downloading data from https://storage.googleapis.com/tensorflow/keras-applications/vgg19/vgg19_weights_tf_dim_ordering_tf_kernels_notop.h5\n",
            "80134624/80134624 [==============================] - 29s 0us/step\n",
            "Model: \"model_3\"\n",
            "__________________________________________________________________________________________________\n",
            " Layer (type)                Output Shape                 Param #   Connected to                  \n",
            "==================================================================================================\n",
            " input_1 (InputLayer)        [(None, 32, 32, 3)]          0         []                            \n",
            "                                                                                                  \n",
            " model (Functional)          (None, 128, 128, 3)          5290307   ['input_1[0][0]']             \n",
            "                                                                                                  \n",
            " input_2 (InputLayer)        [(None, 128, 128, 3)]        0         []                            \n",
            "                                                                                                  \n",
            " model_2 (Functional)        (None, 32, 32, 256)          2325568   ['model[0][0]']               \n",
            "                                                                                                  \n",
            "==================================================================================================\n",
            "Total params: 7615875 (29.05 MB)\n",
            "Trainable params: 5287107 (20.17 MB)\n",
            "Non-trainable params: 2328768 (8.88 MB)\n",
            "__________________________________________________________________________________________________\n"
          ]
        }
      ]
    },
    {
      "cell_type": "markdown",
      "source": [
        "#Teacher Structure"
      ],
      "metadata": {
        "id": "ZSaNaZPPrhEC"
      }
    },
    {
      "cell_type": "code",
      "source": [
        "hr_shape = (hr_train.shape[1], hr_train.shape[2], hr_train.shape[3])\n",
        "lr_shape = (lr_train.shape[1], lr_train.shape[2], lr_train.shape[3])\n",
        "\n",
        "lr_ip = Input(shape=lr_shape)\n",
        "hr_ip = Input(shape=hr_shape)\n",
        "\n",
        "#generator = create_gen(lr_ip, num_res_block = 16)\n",
        "generator_t = create_gen(lr_ip, num_res_block = 16, filters=128)\n",
        "#generator_t.load_weights('/content/drive/MyDrive/Image datasets/data/models/gen7_e_plus6.h5')\n",
        "#generator.summary()\n",
        "\n",
        "discriminator_t = create_disc(hr_ip)\n",
        "discriminator_t.compile(loss=\"binary_crossentropy\", optimizer= optimizer_D, metrics=['accuracy'])\n",
        "#discriminator.summary()\n",
        "\n",
        "vgg_t = build_vgg((128,128,3))\n",
        "#print(vgg.summary())\n",
        "vgg_t.trainable = False\n",
        "\n",
        "teacher = create_comb(generator_t, discriminator_t, vgg_t, lr_ip, hr_ip)\n",
        "\n",
        "# Cimpilation Parameters:\n",
        "# Loss: binary_crossentropy\n",
        "# Content: feature map obtained by the j-th convolution (after activation)\n",
        "# before the i-th maxpooling layer within the VGG19 network.\n",
        "# MSE between the feature representations of a reconstructed image\n",
        "# and the reference image.\n",
        "teacher.compile(loss=[\"binary_crossentropy\", \"mse\"], loss_weights=[1e-3, 1], optimizer=optimizer_G)\n",
        "\n",
        "teacher.summary()\n"
      ],
      "metadata": {
        "colab": {
          "base_uri": "https://localhost:8080/",
          "height": 391
        },
        "outputId": "bbd93a71-0078-492f-e2a1-1c9dbb1fa2d7",
        "id": "fV3UTl9-rmKa"
      },
      "execution_count": null,
      "outputs": [
        {
          "output_type": "error",
          "ename": "ValueError",
          "evalue": "ignored",
          "traceback": [
            "\u001b[0;31m---------------------------------------------------------------------------\u001b[0m",
            "\u001b[0;31mValueError\u001b[0m                                Traceback (most recent call last)",
            "\u001b[0;32m<ipython-input-14-9b98161ec653>\u001b[0m in \u001b[0;36m<cell line: 9>\u001b[0;34m()\u001b[0m\n\u001b[1;32m      7\u001b[0m \u001b[0;31m#generator = create_gen(lr_ip, num_res_block = 16)\u001b[0m\u001b[0;34m\u001b[0m\u001b[0;34m\u001b[0m\u001b[0m\n\u001b[1;32m      8\u001b[0m \u001b[0mgenerator_t\u001b[0m \u001b[0;34m=\u001b[0m \u001b[0mcreate_gen\u001b[0m\u001b[0;34m(\u001b[0m\u001b[0mlr_ip\u001b[0m\u001b[0;34m,\u001b[0m \u001b[0mnum_res_block\u001b[0m \u001b[0;34m=\u001b[0m \u001b[0;36m16\u001b[0m\u001b[0;34m,\u001b[0m \u001b[0mfilters\u001b[0m\u001b[0;34m=\u001b[0m\u001b[0;36m128\u001b[0m\u001b[0;34m)\u001b[0m\u001b[0;34m\u001b[0m\u001b[0;34m\u001b[0m\u001b[0m\n\u001b[0;32m----> 9\u001b[0;31m \u001b[0mgenerator_t\u001b[0m\u001b[0;34m.\u001b[0m\u001b[0mload_weights\u001b[0m\u001b[0;34m(\u001b[0m\u001b[0;34m'/content/drive/MyDrive/Image datasets/data/models/gen7_e_plus6.h5'\u001b[0m\u001b[0;34m)\u001b[0m\u001b[0;34m\u001b[0m\u001b[0;34m\u001b[0m\u001b[0m\n\u001b[0m\u001b[1;32m     10\u001b[0m \u001b[0;31m#generator.summary()\u001b[0m\u001b[0;34m\u001b[0m\u001b[0;34m\u001b[0m\u001b[0m\n\u001b[1;32m     11\u001b[0m \u001b[0;34m\u001b[0m\u001b[0m\n",
            "\u001b[0;32m/usr/local/lib/python3.10/dist-packages/keras/src/utils/traceback_utils.py\u001b[0m in \u001b[0;36merror_handler\u001b[0;34m(*args, **kwargs)\u001b[0m\n\u001b[1;32m     68\u001b[0m             \u001b[0;31m# To get the full stack trace, call:\u001b[0m\u001b[0;34m\u001b[0m\u001b[0;34m\u001b[0m\u001b[0m\n\u001b[1;32m     69\u001b[0m             \u001b[0;31m# `tf.debugging.disable_traceback_filtering()`\u001b[0m\u001b[0;34m\u001b[0m\u001b[0;34m\u001b[0m\u001b[0m\n\u001b[0;32m---> 70\u001b[0;31m             \u001b[0;32mraise\u001b[0m \u001b[0me\u001b[0m\u001b[0;34m.\u001b[0m\u001b[0mwith_traceback\u001b[0m\u001b[0;34m(\u001b[0m\u001b[0mfiltered_tb\u001b[0m\u001b[0;34m)\u001b[0m \u001b[0;32mfrom\u001b[0m \u001b[0;32mNone\u001b[0m\u001b[0;34m\u001b[0m\u001b[0;34m\u001b[0m\u001b[0m\n\u001b[0m\u001b[1;32m     71\u001b[0m         \u001b[0;32mfinally\u001b[0m\u001b[0;34m:\u001b[0m\u001b[0;34m\u001b[0m\u001b[0;34m\u001b[0m\u001b[0m\n\u001b[1;32m     72\u001b[0m             \u001b[0;32mdel\u001b[0m \u001b[0mfiltered_tb\u001b[0m\u001b[0;34m\u001b[0m\u001b[0;34m\u001b[0m\u001b[0m\n",
            "\u001b[0;32m/usr/local/lib/python3.10/dist-packages/keras/src/saving/legacy/hdf5_format.py\u001b[0m in \u001b[0;36mload_weights_from_hdf5_group\u001b[0;34m(f, model)\u001b[0m\n\u001b[1;32m    817\u001b[0m     \u001b[0mlayer_names\u001b[0m \u001b[0;34m=\u001b[0m \u001b[0mfiltered_layer_names\u001b[0m\u001b[0;34m\u001b[0m\u001b[0;34m\u001b[0m\u001b[0m\n\u001b[1;32m    818\u001b[0m     \u001b[0;32mif\u001b[0m \u001b[0mlen\u001b[0m\u001b[0;34m(\u001b[0m\u001b[0mlayer_names\u001b[0m\u001b[0;34m)\u001b[0m \u001b[0;34m!=\u001b[0m \u001b[0mlen\u001b[0m\u001b[0;34m(\u001b[0m\u001b[0mfiltered_layers\u001b[0m\u001b[0;34m)\u001b[0m\u001b[0;34m:\u001b[0m\u001b[0;34m\u001b[0m\u001b[0;34m\u001b[0m\u001b[0m\n\u001b[0;32m--> 819\u001b[0;31m         raise ValueError(\n\u001b[0m\u001b[1;32m    820\u001b[0m             \u001b[0;34m\"Layer count mismatch when loading weights from file. \"\u001b[0m\u001b[0;34m\u001b[0m\u001b[0;34m\u001b[0m\u001b[0m\n\u001b[1;32m    821\u001b[0m             \u001b[0;34mf\"Model expected {len(filtered_layers)} layers, found \"\u001b[0m\u001b[0;34m\u001b[0m\u001b[0;34m\u001b[0m\u001b[0m\n",
            "\u001b[0;31mValueError\u001b[0m: Layer count mismatch when loading weights from file. Model expected 294 layers, found 150 saved layers."
          ]
        }
      ]
    },
    {
      "cell_type": "code",
      "source": [
        "from keras.models import load_model\n",
        "from numpy.random import randint\n",
        "\n",
        "Teacher = load_model('/content/drive/MyDrive/Image datasets/data/models/gen7_e_plus6.h5', compile=True)\n",
        "\n",
        "optimizer = tf.keras.optimizers.Adam(learning_rate=0.0001, beta_1=0.9, beta_2=0.999, epsilon=None, weight_decay=0.0, amsgrad=False)\n",
        "\n",
        "Teacher.compile(optimizer=optimizer,\n",
        "              loss=[\"binary_crossentropy\", \"mse\"],\n",
        "              metrics=['accuracy'])"
      ],
      "metadata": {
        "id": "ep9kMGWbz7me"
      },
      "execution_count": null,
      "outputs": []
    },
    {
      "cell_type": "markdown",
      "source": [
        "# Combining the Pieces:\n",
        "\n",
        "Model Training Step Function"
      ],
      "metadata": {
        "id": "XGfJ0CtJSIPE"
      }
    },
    {
      "cell_type": "code",
      "source": [
        "loss_fn = tf.keras.losses.MeanSquaredError(reduction=\"none\")\n",
        "metric_fn = tf.keras.metrics.Mean()\n",
        "student_psnr = tf.keras.metrics.Mean()\n",
        "teacher_psnr = tf.keras.metrics.Mean()\n",
        "\n",
        "# define vars!!!!!!!!!!!!!!!!!!!!!!!!!!!!!!!!!!!!!!!!!!!!!!!!!!!!!!!\n",
        "alpha =  1e-4\n",
        "lambda_ = 5e-2\n",
        "teacher_disc = discriminator\n",
        "generator_metric = tf.keras.metrics.Mean()\n",
        "discriminator_metric = tf.keras.metrics.Mean()\n",
        "dummy_optimizer = tf.optimizers.Adam()\n",
        "\n",
        "ra_generator = RelativisticAverageLoss(\n",
        "        teacher_disc, type_=\"G\")\n",
        "ra_discriminator = RelativisticAverageLoss(\n",
        "        teacher_disc, type_=\"D\")\n",
        "perceptual_loss = PerceptualLoss(\n",
        "        weights=\"imagenet\",\n",
        "        input_shape=(128,128,3),\n",
        "        loss_type=\"L2\")\n",
        "#student_psnr = tf.keras.metrics.Mean()\n",
        "#teacher_psnr = tf.keras.metrics.Mean()"
      ],
      "metadata": {
        "id": "Lz3fovu9hTKH"
      },
      "execution_count": null,
      "outputs": []
    },
    {
      "cell_type": "code",
      "source": [
        "class AccumulateNorm(tf.keras.layers.Layer):\n",
        "\n",
        "    def __init__(self, *args, **kwargs):\n",
        "\n",
        "        super().__init__(*args, **kwargs)\n",
        "        self.bn = tf.keras.layers.BatchNormalization(axis=-1,center=False, scale=False)\n",
        "\n",
        "    def call(self, inputs):\n",
        "\n",
        "        _ = self.bn(inputs)\n",
        "        return inputs\n",
        "\n",
        "def get_margin(std, mean):\n",
        "\n",
        "    margin = []\n",
        "    for (s, m) in zip(std, mean):\n",
        "        s = abs(s)\n",
        "\n",
        "        if norm.cdf(-m / s) > 0.001:\n",
        "            margin.append(- s * math.exp(-(m / s) ** 2 / 2) / math.sqrt(2 * math.pi) / norm.cdf(-m / s) + m)\n",
        "        else:\n",
        "            margin.append(-3 * s)\n",
        "    return tf.convert_to_tensor(margin, dtype=tf.float32)\n",
        "\n",
        "def get_connectors():\n",
        "\n",
        "        connectors = []\n",
        "        for i in range(len([2,12,16])):\n",
        "\n",
        "            model = tf.keras.Sequential()\n",
        "            model.add(tf.keras.Input(shape=(128 // 4,\n",
        "                                            128 // 4,\n",
        "                                            64)))\n",
        "            n = math.sqrt(2.0 / 128)\n",
        "            model.add(tf.keras.layers.Conv2D(128,\n",
        "                                             kernel_size=1, strides=1, use_bias=False,\n",
        "                                             kernel_initializer=tf.keras.initializers.RandomNormal(mean=0.0, stddev=n)))\n",
        "            model.add(tf.keras.layers.BatchNormalization(axis=-1,momentum=0.99,epsilon=0.001))\n",
        "\n",
        "            connectors.append(model)\n",
        "\n",
        "def get_margins():\n",
        "\n",
        "    batch_norms = [l.get_weights() for l in Teacher.layers if isinstance(l, AccumulateNorm)]\n",
        "    print(Teacher.layers)\n",
        "    batch_norms = [batch_norms[i] for i in [2,12,16]]\n",
        "    means = [bn[0] for bn in batch_norms]\n",
        "    stds = [tf.math.sqrt(bn[1]) for bn in batch_norms]\n",
        "    margins = [get_margin(m,s) for (m,s) in zip(means, stds)]\n",
        "\n",
        "\n",
        "get_connectors()\n",
        "get_margins()"
      ],
      "metadata": {
        "colab": {
          "base_uri": "https://localhost:8080/",
          "height": 393
        },
        "id": "HBL54FjpvXNB",
        "outputId": "514d70a8-7b5e-4b56-e49b-49d3a5a9780b"
      },
      "execution_count": null,
      "outputs": [
        {
          "output_type": "stream",
          "name": "stdout",
          "text": [
            "[<keras.src.engine.input_layer.InputLayer object at 0x7c90ab4e48e0>, <keras.src.layers.convolutional.conv2d.Conv2D object at 0x7c90ab4e55d0>, <keras.src.layers.activation.leaky_relu.LeakyReLU object at 0x7c90b8162260>, <keras.src.layers.convolutional.conv2d.Conv2D object at 0x7c90ab4e7250>, <keras.src.layers.activation.leaky_relu.LeakyReLU object at 0x7c90b8160820>, <keras.src.layers.merging.add.Add object at 0x7c90b8161390>, <keras.src.layers.convolutional.conv2d.Conv2D object at 0x7c90b81617b0>, <keras.src.layers.activation.leaky_relu.LeakyReLU object at 0x7c90b8162b30>, <keras.src.layers.merging.add.Add object at 0x7c90b84ac1f0>, <keras.src.layers.convolutional.conv2d.Conv2D object at 0x7c90b84ac6a0>, <keras.src.layers.activation.leaky_relu.LeakyReLU object at 0x7c90b816a650>, <keras.src.layers.merging.add.Add object at 0x7c90b81322f0>, <keras.src.layers.convolutional.conv2d.Conv2D object at 0x7c90ab4e7a90>, <keras.src.layers.activation.leaky_relu.LeakyReLU object at 0x7c90b8131ab0>, <keras.src.layers.merging.add.Add object at 0x7c90b8131840>, <keras.src.layers.convolutional.conv2d.Conv2D object at 0x7c90b8131780>, <keras.src.layers.normalization.batch_normalization.BatchNormalization object at 0x7c90b8131540>, <keras.src.layers.merging.add.Add object at 0x7c90b8130a60>, <keras.src.layers.convolutional.conv2d.Conv2D object at 0x7c90b81309d0>, <keras.src.layers.activation.leaky_relu.LeakyReLU object at 0x7c90b8130130>, <keras.src.layers.merging.add.Add object at 0x7c90b81323e0>, <keras.src.layers.convolutional.conv2d.Conv2D object at 0x7c90b81324a0>, <keras.src.layers.activation.leaky_relu.LeakyReLU object at 0x7c90b8132c20>, <keras.src.layers.merging.add.Add object at 0x7c90b8132e90>, <keras.src.layers.convolutional.conv2d.Conv2D object at 0x7c90b8132f50>, <keras.src.layers.activation.leaky_relu.LeakyReLU object at 0x7c90b81336d0>, <keras.src.layers.merging.add.Add object at 0x7c90b8133940>, <keras.src.layers.convolutional.conv2d.Conv2D object at 0x7c90b8133a00>, <keras.src.layers.activation.leaky_relu.LeakyReLU object at 0x7c90d86e01c0>, <keras.src.layers.merging.add.Add object at 0x7c90d86e0430>, <keras.src.layers.convolutional.conv2d.Conv2D object at 0x7c90ab4e45e0>, <keras.src.layers.normalization.batch_normalization.BatchNormalization object at 0x7c90d86e0730>, <keras.src.layers.merging.add.Add object at 0x7c90d86e1210>, <keras.src.layers.convolutional.conv2d.Conv2D object at 0x7c90d86e12a0>, <keras.src.layers.activation.leaky_relu.LeakyReLU object at 0x7c90d86e1a20>, <keras.src.layers.merging.add.Add object at 0x7c90d86e1c90>, <keras.src.layers.convolutional.conv2d.Conv2D object at 0x7c90d86e1d50>, <keras.src.layers.activation.leaky_relu.LeakyReLU object at 0x7c90d86e24d0>, <keras.src.layers.merging.add.Add object at 0x7c90d86e2740>, <keras.src.layers.convolutional.conv2d.Conv2D object at 0x7c90d86e2800>, <keras.src.layers.activation.leaky_relu.LeakyReLU object at 0x7c90d86e2f80>, <keras.src.layers.merging.add.Add object at 0x7c90d86e31f0>, <keras.src.layers.convolutional.conv2d.Conv2D object at 0x7c90d86e32b0>, <keras.src.layers.activation.leaky_relu.LeakyReLU object at 0x7c90d86e3a30>, <keras.src.layers.merging.add.Add object at 0x7c90d86e3ca0>, <keras.src.layers.convolutional.conv2d.Conv2D object at 0x7c90d86e3d60>, <keras.src.layers.normalization.batch_normalization.BatchNormalization object at 0x7c90d86e3fa0>, <keras.src.layers.merging.add.Add object at 0x7c90d86c0ac0>, <keras.src.layers.merging.add.Add object at 0x7c90d86c0cd0>, <keras.src.layers.convolutional.conv2d.Conv2D object at 0x7c90d86c0d30>, <keras.src.layers.activation.leaky_relu.LeakyReLU object at 0x7c90d86c1570>, <keras.src.layers.merging.add.Add object at 0x7c90d86c17e0>, <keras.src.layers.convolutional.conv2d.Conv2D object at 0x7c90d86c18a0>, <keras.src.layers.activation.leaky_relu.LeakyReLU object at 0x7c90d86c2020>, <keras.src.layers.merging.add.Add object at 0x7c90d86c2290>, <keras.src.layers.convolutional.conv2d.Conv2D object at 0x7c90d86c2350>, <keras.src.layers.activation.leaky_relu.LeakyReLU object at 0x7c90d86c2ad0>, <keras.src.layers.merging.add.Add object at 0x7c90d86c2d40>, <keras.src.layers.convolutional.conv2d.Conv2D object at 0x7c90d86c2e00>, <keras.src.layers.activation.leaky_relu.LeakyReLU object at 0x7c90d86c3580>, <keras.src.layers.merging.add.Add object at 0x7c90d86c37f0>, <keras.src.layers.convolutional.conv2d.Conv2D object at 0x7c90d86c38b0>, <keras.src.layers.normalization.batch_normalization.BatchNormalization object at 0x7c90d86c3af0>, <keras.src.layers.merging.add.Add object at 0x7c90d8688610>, <keras.src.layers.convolutional.conv2d.Conv2D object at 0x7c90d86886a0>, <keras.src.layers.activation.leaky_relu.LeakyReLU object at 0x7c90d8688e20>, <keras.src.layers.merging.add.Add object at 0x7c90d8689090>, <keras.src.layers.convolutional.conv2d.Conv2D object at 0x7c90d8689150>, <keras.src.layers.activation.leaky_relu.LeakyReLU object at 0x7c90d86898d0>, <keras.src.layers.merging.add.Add object at 0x7c90d8689b40>, <keras.src.layers.convolutional.conv2d.Conv2D object at 0x7c90d8689c00>, <keras.src.layers.activation.leaky_relu.LeakyReLU object at 0x7c90d868a380>, <keras.src.layers.merging.add.Add object at 0x7c90d868a5f0>, <keras.src.layers.convolutional.conv2d.Conv2D object at 0x7c90d868a6b0>, <keras.src.layers.activation.leaky_relu.LeakyReLU object at 0x7c90d868ae30>, <keras.src.layers.merging.add.Add object at 0x7c90d868b0a0>, <keras.src.layers.convolutional.conv2d.Conv2D object at 0x7c90d868b160>, <keras.src.layers.normalization.batch_normalization.BatchNormalization object at 0x7c90d868b3a0>, <keras.src.layers.merging.add.Add object at 0x7c90d868be80>, <keras.src.layers.convolutional.conv2d.Conv2D object at 0x7c90d868bf10>, <keras.src.layers.activation.leaky_relu.LeakyReLU object at 0x7c90d86ac6d0>, <keras.src.layers.merging.add.Add object at 0x7c90d86ac940>, <keras.src.layers.convolutional.conv2d.Conv2D object at 0x7c90d86aca00>, <keras.src.layers.activation.leaky_relu.LeakyReLU object at 0x7c90d86ad180>, <keras.src.layers.merging.add.Add object at 0x7c90d86ad3f0>, <keras.src.layers.convolutional.conv2d.Conv2D object at 0x7c90d86ad4b0>, <keras.src.layers.activation.leaky_relu.LeakyReLU object at 0x7c90d86adc30>, <keras.src.layers.merging.add.Add object at 0x7c90d86adea0>, <keras.src.layers.convolutional.conv2d.Conv2D object at 0x7c90d86adf60>, <keras.src.layers.activation.leaky_relu.LeakyReLU object at 0x7c90d86ae6e0>, <keras.src.layers.merging.add.Add object at 0x7c90d86ae950>, <keras.src.layers.convolutional.conv2d.Conv2D object at 0x7c90d86aea10>, <keras.src.layers.normalization.batch_normalization.BatchNormalization object at 0x7c90d86aec50>, <keras.src.layers.merging.add.Add object at 0x7c90d86af730>, <keras.src.layers.merging.add.Add object at 0x7c90d86af940>, <keras.src.layers.convolutional.conv2d.Conv2D object at 0x7c90d86af9a0>, <keras.src.layers.activation.leaky_relu.LeakyReLU object at 0x7c90d868c220>, <keras.src.layers.merging.add.Add object at 0x7c90d868c490>, <keras.src.layers.convolutional.conv2d.Conv2D object at 0x7c90d86afc70>, <keras.src.layers.activation.leaky_relu.LeakyReLU object at 0x7c90d868ccd0>, <keras.src.layers.merging.add.Add object at 0x7c90d868cf40>, <keras.src.layers.convolutional.conv2d.Conv2D object at 0x7c90d868d000>, <keras.src.layers.activation.leaky_relu.LeakyReLU object at 0x7c90d868d780>, <keras.src.layers.merging.add.Add object at 0x7c90d868d9f0>, <keras.src.layers.convolutional.conv2d.Conv2D object at 0x7c90d868dab0>, <keras.src.layers.activation.leaky_relu.LeakyReLU object at 0x7c90d868e230>, <keras.src.layers.merging.add.Add object at 0x7c90d868e4a0>, <keras.src.layers.convolutional.conv2d.Conv2D object at 0x7c90d868e560>, <keras.src.layers.normalization.batch_normalization.BatchNormalization object at 0x7c90d868e7a0>, <keras.src.layers.merging.add.Add object at 0x7c90d868f280>, <keras.src.layers.convolutional.conv2d.Conv2D object at 0x7c90d868f310>, <keras.src.layers.activation.leaky_relu.LeakyReLU object at 0x7c90d868fa90>, <keras.src.layers.merging.add.Add object at 0x7c90d868fd00>, <keras.src.layers.convolutional.conv2d.Conv2D object at 0x7c90d868fdc0>, <keras.src.layers.activation.leaky_relu.LeakyReLU object at 0x7c90d8650580>, <keras.src.layers.merging.add.Add object at 0x7c90d86507f0>, <keras.src.layers.convolutional.conv2d.Conv2D object at 0x7c90d868ffd0>, <keras.src.layers.activation.leaky_relu.LeakyReLU object at 0x7c90d8651030>, <keras.src.layers.merging.add.Add object at 0x7c90d86512a0>, <keras.src.layers.convolutional.conv2d.Conv2D object at 0x7c90d8651360>, <keras.src.layers.activation.leaky_relu.LeakyReLU object at 0x7c90d8651ae0>, <keras.src.layers.merging.add.Add object at 0x7c90d8651d50>, <keras.src.layers.convolutional.conv2d.Conv2D object at 0x7c90d8651e10>, <keras.src.layers.normalization.batch_normalization.BatchNormalization object at 0x7c90d8652050>, <keras.src.layers.merging.add.Add object at 0x7c90d8652b30>, <keras.src.layers.convolutional.conv2d.Conv2D object at 0x7c90d8652bc0>, <keras.src.layers.activation.leaky_relu.LeakyReLU object at 0x7c90d8653340>, <keras.src.layers.merging.add.Add object at 0x7c90d86535b0>, <keras.src.layers.convolutional.conv2d.Conv2D object at 0x7c90d8653670>, <keras.src.layers.activation.leaky_relu.LeakyReLU object at 0x7c90d8653df0>, <keras.src.layers.merging.add.Add object at 0x7c90d85900a0>, <keras.src.layers.convolutional.conv2d.Conv2D object at 0x7c90d8653880>, <keras.src.layers.activation.leaky_relu.LeakyReLU object at 0x7c90d85908e0>, <keras.src.layers.merging.add.Add object at 0x7c90d8590b50>, <keras.src.layers.convolutional.conv2d.Conv2D object at 0x7c90d8590c10>, <keras.src.layers.activation.leaky_relu.LeakyReLU object at 0x7c90d8591390>, <keras.src.layers.merging.add.Add object at 0x7c90d8591600>, <keras.src.layers.convolutional.conv2d.Conv2D object at 0x7c90d85916c0>, <keras.src.layers.normalization.batch_normalization.BatchNormalization object at 0x7c90d8591900>, <keras.src.layers.merging.add.Add object at 0x7c90d85923e0>, <keras.src.layers.merging.add.Add object at 0x7c90d85925f0>, <keras.src.layers.convolutional.conv2d.Conv2D object at 0x7c90d8592650>, <keras.src.layers.activation.leaky_relu.LeakyReLU object at 0x7c90d8592e90>, <keras.src.layers.merging.add.Add object at 0x7c90d8593100>, <keras.src.layers.convolutional.conv2d.Conv2D object at 0x7c90d85931c0>, <keras.src.layers.activation.leaky_relu.LeakyReLU object at 0x7c90d8593940>, <keras.src.layers.merging.add.Add object at 0x7c90d8593bb0>, <keras.src.layers.convolutional.conv2d.Conv2D object at 0x7c90d8593c70>, <keras.src.layers.activation.leaky_relu.LeakyReLU object at 0x7c90d8530430>, <keras.src.layers.merging.add.Add object at 0x7c90d85306a0>, <keras.src.layers.convolutional.conv2d.Conv2D object at 0x7c90d8593e80>, <keras.src.layers.activation.leaky_relu.LeakyReLU object at 0x7c90d8530ee0>, <keras.src.layers.merging.add.Add object at 0x7c90d8531150>, <keras.src.layers.convolutional.conv2d.Conv2D object at 0x7c90d8531210>, <keras.src.layers.normalization.batch_normalization.BatchNormalization object at 0x7c90d8531450>, <keras.src.layers.merging.add.Add object at 0x7c90d8531f30>, <keras.src.layers.convolutional.conv2d.Conv2D object at 0x7c90d8531fc0>, <keras.src.layers.activation.leaky_relu.LeakyReLU object at 0x7c90d8532740>, <keras.src.layers.merging.add.Add object at 0x7c90d85329b0>, <keras.src.layers.convolutional.conv2d.Conv2D object at 0x7c90d8532a70>, <keras.src.layers.activation.leaky_relu.LeakyReLU object at 0x7c90d85331f0>, <keras.src.layers.merging.add.Add object at 0x7c90d8533460>, <keras.src.layers.convolutional.conv2d.Conv2D object at 0x7c90d8533520>, <keras.src.layers.activation.leaky_relu.LeakyReLU object at 0x7c90d8533ca0>, <keras.src.layers.merging.add.Add object at 0x7c90d8533f10>, <keras.src.layers.convolutional.conv2d.Conv2D object at 0x7c90d8533fd0>, <keras.src.layers.activation.leaky_relu.LeakyReLU object at 0x7c90d85ac790>, <keras.src.layers.merging.add.Add object at 0x7c90d85aca00>, <keras.src.layers.convolutional.conv2d.Conv2D object at 0x7c90d85acac0>, <keras.src.layers.normalization.batch_normalization.BatchNormalization object at 0x7c90d85acd00>, <keras.src.layers.merging.add.Add object at 0x7c90d85ad7e0>, <keras.src.layers.convolutional.conv2d.Conv2D object at 0x7c90d85ad870>, <keras.src.layers.activation.leaky_relu.LeakyReLU object at 0x7c90d85adff0>, <keras.src.layers.merging.add.Add object at 0x7c90d85ae260>, <keras.src.layers.convolutional.conv2d.Conv2D object at 0x7c90d85ae320>, <keras.src.layers.activation.leaky_relu.LeakyReLU object at 0x7c90d85aeaa0>, <keras.src.layers.merging.add.Add object at 0x7c90d85aed10>, <keras.src.layers.convolutional.conv2d.Conv2D object at 0x7c90d85aedd0>, <keras.src.layers.activation.leaky_relu.LeakyReLU object at 0x7c90d85af550>, <keras.src.layers.merging.add.Add object at 0x7c90d85af7c0>, <keras.src.layers.convolutional.conv2d.Conv2D object at 0x7c90d85af880>, <keras.src.layers.activation.leaky_relu.LeakyReLU object at 0x7c90d85affd0>, <keras.src.layers.merging.add.Add object at 0x7c90d857c2b0>, <keras.src.layers.convolutional.conv2d.Conv2D object at 0x7c90d85afa90>, <keras.src.layers.normalization.batch_normalization.BatchNormalization object at 0x7c90d857c5b0>, <keras.src.layers.merging.add.Add object at 0x7c90d857d090>, <keras.src.layers.merging.add.Add object at 0x7c90d857d2a0>, <keras.src.layers.convolutional.conv2d.Conv2D object at 0x7c90d857d300>, <keras.src.layers.activation.leaky_relu.LeakyReLU object at 0x7c90d857db40>, <keras.src.layers.merging.add.Add object at 0x7c90d857ddb0>, <keras.src.layers.convolutional.conv2d.Conv2D object at 0x7c90d857de70>, <keras.src.layers.activation.leaky_relu.LeakyReLU object at 0x7c90d857e5f0>, <keras.src.layers.merging.add.Add object at 0x7c90d857e860>, <keras.src.layers.convolutional.conv2d.Conv2D object at 0x7c90d857e920>, <keras.src.layers.activation.leaky_relu.LeakyReLU object at 0x7c90d857f0a0>, <keras.src.layers.merging.add.Add object at 0x7c90d857f310>, <keras.src.layers.convolutional.conv2d.Conv2D object at 0x7c90d857f3d0>, <keras.src.layers.activation.leaky_relu.LeakyReLU object at 0x7c90d857fb50>, <keras.src.layers.merging.add.Add object at 0x7c90d857fdc0>, <keras.src.layers.convolutional.conv2d.Conv2D object at 0x7c90d857fe80>, <keras.src.layers.normalization.batch_normalization.BatchNormalization object at 0x7c90d8560100>, <keras.src.layers.merging.add.Add object at 0x7c90d8560be0>, <keras.src.layers.convolutional.conv2d.Conv2D object at 0x7c90d8560c70>, <keras.src.layers.activation.leaky_relu.LeakyReLU object at 0x7c90d85613f0>, <keras.src.layers.merging.add.Add object at 0x7c90d8561660>, <keras.src.layers.convolutional.conv2d.Conv2D object at 0x7c90d8561720>, <keras.src.layers.activation.leaky_relu.LeakyReLU object at 0x7c90d8561ea0>, <keras.src.layers.merging.add.Add object at 0x7c90d8562110>, <keras.src.layers.convolutional.conv2d.Conv2D object at 0x7c90d85621d0>, <keras.src.layers.activation.leaky_relu.LeakyReLU object at 0x7c90d8562950>, <keras.src.layers.merging.add.Add object at 0x7c90d8562bc0>, <keras.src.layers.convolutional.conv2d.Conv2D object at 0x7c90d8562c80>, <keras.src.layers.activation.leaky_relu.LeakyReLU object at 0x7c90d8563400>, <keras.src.layers.merging.add.Add object at 0x7c90d8563670>, <keras.src.layers.convolutional.conv2d.Conv2D object at 0x7c90d8563730>, <keras.src.layers.normalization.batch_normalization.BatchNormalization object at 0x7c90d8563970>, <keras.src.layers.merging.add.Add object at 0x7c90d8520490>, <keras.src.layers.convolutional.conv2d.Conv2D object at 0x7c90d8563f40>, <keras.src.layers.activation.leaky_relu.LeakyReLU object at 0x7c90d8520ca0>, <keras.src.layers.merging.add.Add object at 0x7c90d8520f10>, <keras.src.layers.convolutional.conv2d.Conv2D object at 0x7c90d8520fd0>, <keras.src.layers.activation.leaky_relu.LeakyReLU object at 0x7c90d8521750>, <keras.src.layers.merging.add.Add object at 0x7c90d85219c0>, <keras.src.layers.convolutional.conv2d.Conv2D object at 0x7c90d8521a80>, <keras.src.layers.activation.leaky_relu.LeakyReLU object at 0x7c90d8522200>, <keras.src.layers.merging.add.Add object at 0x7c90d8522470>, <keras.src.layers.convolutional.conv2d.Conv2D object at 0x7c90d8522530>, <keras.src.layers.activation.leaky_relu.LeakyReLU object at 0x7c90d8522cb0>, <keras.src.layers.merging.add.Add object at 0x7c90d8522f20>, <keras.src.layers.convolutional.conv2d.Conv2D object at 0x7c90d8522fe0>, <keras.src.layers.normalization.batch_normalization.BatchNormalization object at 0x7c90d8523220>, <keras.src.layers.merging.add.Add object at 0x7c90d8523d00>, <keras.src.layers.merging.add.Add object at 0x7c90d8523f10>, <keras.src.layers.convolutional.conv2d.Conv2D object at 0x7c90d8523f70>, <keras.src.layers.activation.leaky_relu.LeakyReLU object at 0x7c90ab1707f0>, <keras.src.layers.merging.add.Add object at 0x7c90ab170a60>, <keras.src.layers.convolutional.conv2d.Conv2D object at 0x7c90ab170b20>, <keras.src.layers.activation.leaky_relu.LeakyReLU object at 0x7c90ab1712a0>, <keras.src.layers.merging.add.Add object at 0x7c90ab171510>, <keras.src.layers.convolutional.conv2d.Conv2D object at 0x7c90ab1715d0>, <keras.src.layers.activation.leaky_relu.LeakyReLU object at 0x7c90ab171d50>, <keras.src.layers.merging.add.Add object at 0x7c90ab171fc0>, <keras.src.layers.convolutional.conv2d.Conv2D object at 0x7c90ab172080>, <keras.src.layers.activation.leaky_relu.LeakyReLU object at 0x7c90ab172800>, <keras.src.layers.merging.add.Add object at 0x7c90ab172a70>, <keras.src.layers.convolutional.conv2d.Conv2D object at 0x7c90ab172b30>, <keras.src.layers.normalization.batch_normalization.BatchNormalization object at 0x7c90ab172d70>, <keras.src.layers.merging.add.Add object at 0x7c90ab173850>, <keras.src.layers.convolutional.conv2d.Conv2D object at 0x7c90ab1738e0>, <keras.src.layers.activation.leaky_relu.LeakyReLU object at 0x7c90ab173b20>, <keras.src.layers.merging.add.Add object at 0x7c90ab19c310>, <keras.src.layers.convolutional.conv2d.Conv2D object at 0x7c90ab173af0>, <keras.src.layers.activation.leaky_relu.LeakyReLU object at 0x7c90ab19cb50>, <keras.src.layers.merging.add.Add object at 0x7c90ab19cdc0>, <keras.src.layers.convolutional.conv2d.Conv2D object at 0x7c90ab19ce80>, <keras.src.layers.activation.leaky_relu.LeakyReLU object at 0x7c90ab19d600>, <keras.src.layers.merging.add.Add object at 0x7c90ab19d870>, <keras.src.layers.convolutional.conv2d.Conv2D object at 0x7c90ab19d930>, <keras.src.layers.activation.leaky_relu.LeakyReLU object at 0x7c90ab19e0b0>, <keras.src.layers.merging.add.Add object at 0x7c90ab19e320>, <keras.src.layers.convolutional.conv2d.Conv2D object at 0x7c90ab19e3e0>, <keras.src.layers.normalization.batch_normalization.BatchNormalization object at 0x7c90ab19e620>, <keras.src.layers.merging.add.Add object at 0x7c90ab19f100>, <keras.src.layers.convolutional.conv2d.Conv2D object at 0x7c90ab19f190>, <keras.src.layers.activation.leaky_relu.LeakyReLU object at 0x7c90ab19f910>, <keras.src.layers.merging.add.Add object at 0x7c90ab19fb80>, <keras.src.layers.convolutional.conv2d.Conv2D object at 0x7c90ab19fc40>, <keras.src.layers.activation.leaky_relu.LeakyReLU object at 0x7c90ab1ac400>, <keras.src.layers.merging.add.Add object at 0x7c90ab1ac670>, <keras.src.layers.convolutional.conv2d.Conv2D object at 0x7c90ab19fe50>, <keras.src.layers.activation.leaky_relu.LeakyReLU object at 0x7c90ab1aceb0>, <keras.src.layers.merging.add.Add object at 0x7c90ab1ad120>, <keras.src.layers.convolutional.conv2d.Conv2D object at 0x7c90ab1ad1e0>, <keras.src.layers.activation.leaky_relu.LeakyReLU object at 0x7c90ab1ad960>, <keras.src.layers.merging.add.Add object at 0x7c90ab1adbd0>, <keras.src.layers.convolutional.conv2d.Conv2D object at 0x7c90ab1adc90>, <keras.src.layers.normalization.batch_normalization.BatchNormalization object at 0x7c90ab1aded0>, <keras.src.layers.merging.add.Add object at 0x7c90ab1ae9b0>, <keras.src.layers.merging.add.Add object at 0x7c90ab1aebc0>, <keras.src.layers.convolutional.conv2d.Conv2D object at 0x7c90ab1aec20>, <keras.src.layers.activation.leaky_relu.LeakyReLU object at 0x7c90ab1af460>, <keras.src.layers.merging.add.Add object at 0x7c90ab1af6d0>, <keras.src.layers.convolutional.conv2d.Conv2D object at 0x7c90ab1af790>, <keras.src.layers.activation.leaky_relu.LeakyReLU object at 0x7c90ab1aff10>, <keras.src.layers.merging.add.Add object at 0x7c90ab1c01c0>, <keras.src.layers.convolutional.conv2d.Conv2D object at 0x7c90ab1af9a0>, <keras.src.layers.activation.leaky_relu.LeakyReLU object at 0x7c90ab1c0a00>, <keras.src.layers.merging.add.Add object at 0x7c90ab1c0c70>, <keras.src.layers.convolutional.conv2d.Conv2D object at 0x7c90ab1c0d30>, <keras.src.layers.activation.leaky_relu.LeakyReLU object at 0x7c90ab1c14b0>, <keras.src.layers.merging.add.Add object at 0x7c90ab1c1720>, <keras.src.layers.convolutional.conv2d.Conv2D object at 0x7c90ab1c17e0>, <keras.src.layers.normalization.batch_normalization.BatchNormalization object at 0x7c90ab1c1a20>, <keras.src.layers.merging.add.Add object at 0x7c90ab1c2500>, <keras.src.layers.convolutional.conv2d.Conv2D object at 0x7c90ab1c2590>, <keras.src.layers.activation.leaky_relu.LeakyReLU object at 0x7c90ab1c2d10>, <keras.src.layers.merging.add.Add object at 0x7c90ab1c2f80>, <keras.src.layers.convolutional.conv2d.Conv2D object at 0x7c90ab1c3040>, <keras.src.layers.activation.leaky_relu.LeakyReLU object at 0x7c90ab1c37c0>, <keras.src.layers.merging.add.Add object at 0x7c90ab1c3a30>, <keras.src.layers.convolutional.conv2d.Conv2D object at 0x7c90ab1c3af0>, <keras.src.layers.activation.leaky_relu.LeakyReLU object at 0x7c90ab1cc2b0>, <keras.src.layers.merging.add.Add object at 0x7c90ab1cc520>, <keras.src.layers.convolutional.conv2d.Conv2D object at 0x7c90ab1c3d00>, <keras.src.layers.activation.leaky_relu.LeakyReLU object at 0x7c90ab1ccd60>, <keras.src.layers.merging.add.Add object at 0x7c90ab1ccfd0>, <keras.src.layers.convolutional.conv2d.Conv2D object at 0x7c90ab1cd090>, <keras.src.layers.normalization.batch_normalization.BatchNormalization object at 0x7c90ab1cd2d0>, <keras.src.layers.merging.add.Add object at 0x7c90ab1cddb0>, <keras.src.layers.convolutional.conv2d.Conv2D object at 0x7c90ab1cde40>, <keras.src.layers.activation.leaky_relu.LeakyReLU object at 0x7c90ab1ce5c0>, <keras.src.layers.merging.add.Add object at 0x7c90ab1ce830>, <keras.src.layers.convolutional.conv2d.Conv2D object at 0x7c90ab1ce8f0>, <keras.src.layers.activation.leaky_relu.LeakyReLU object at 0x7c90ab1cf070>, <keras.src.layers.merging.add.Add object at 0x7c90ab1cf2e0>, <keras.src.layers.convolutional.conv2d.Conv2D object at 0x7c90ab1cf3a0>, <keras.src.layers.activation.leaky_relu.LeakyReLU object at 0x7c90ab1cfb20>, <keras.src.layers.merging.add.Add object at 0x7c90ab1cfd90>, <keras.src.layers.convolutional.conv2d.Conv2D object at 0x7c90ab1cfe50>, <keras.src.layers.activation.leaky_relu.LeakyReLU object at 0x7c90ab1e0610>, <keras.src.layers.merging.add.Add object at 0x7c90ab1e0880>, <keras.src.layers.convolutional.conv2d.Conv2D object at 0x7c90ab1e0940>, <keras.src.layers.normalization.batch_normalization.BatchNormalization object at 0x7c90ab1e0b80>, <keras.src.layers.merging.add.Add object at 0x7c90ab1e1660>, <keras.src.layers.merging.add.Add object at 0x7c90ab1e1870>, <keras.src.layers.convolutional.conv2d.Conv2D object at 0x7c90ab1e18d0>, <keras.src.layers.activation.leaky_relu.LeakyReLU object at 0x7c90ab1e2110>, <keras.src.layers.merging.add.Add object at 0x7c90ab1e2380>, <keras.src.layers.convolutional.conv2d.Conv2D object at 0x7c90ab1e2440>, <keras.src.layers.activation.leaky_relu.LeakyReLU object at 0x7c90ab1e2bc0>, <keras.src.layers.merging.add.Add object at 0x7c90ab1e2e30>, <keras.src.layers.convolutional.conv2d.Conv2D object at 0x7c90ab1e2ef0>, <keras.src.layers.activation.leaky_relu.LeakyReLU object at 0x7c90ab1e3670>, <keras.src.layers.merging.add.Add object at 0x7c90ab1e38e0>, <keras.src.layers.convolutional.conv2d.Conv2D object at 0x7c90ab1e39a0>, <keras.src.layers.activation.leaky_relu.LeakyReLU object at 0x7c90ab1f0160>, <keras.src.layers.merging.add.Add object at 0x7c90ab1f03d0>, <keras.src.layers.convolutional.conv2d.Conv2D object at 0x7c90ab1e3bb0>, <keras.src.layers.normalization.batch_normalization.BatchNormalization object at 0x7c90ab1f06d0>, <keras.src.layers.merging.add.Add object at 0x7c90ab1f11b0>, <keras.src.layers.convolutional.conv2d.Conv2D object at 0x7c90ab1f1240>, <keras.src.layers.activation.leaky_relu.LeakyReLU object at 0x7c90ab1f19c0>, <keras.src.layers.merging.add.Add object at 0x7c90ab1f1c30>, <keras.src.layers.convolutional.conv2d.Conv2D object at 0x7c90ab1f1cf0>, <keras.src.layers.activation.leaky_relu.LeakyReLU object at 0x7c90ab1f2470>, <keras.src.layers.merging.add.Add object at 0x7c90ab1f26e0>, <keras.src.layers.convolutional.conv2d.Conv2D object at 0x7c90ab1f27a0>, <keras.src.layers.activation.leaky_relu.LeakyReLU object at 0x7c90ab1f2f20>, <keras.src.layers.merging.add.Add object at 0x7c90ab1f3190>, <keras.src.layers.convolutional.conv2d.Conv2D object at 0x7c90ab1f3250>, <keras.src.layers.activation.leaky_relu.LeakyReLU object at 0x7c90ab1f39d0>, <keras.src.layers.merging.add.Add object at 0x7c90ab1f3c40>, <keras.src.layers.convolutional.conv2d.Conv2D object at 0x7c90ab1f3d00>, <keras.src.layers.normalization.batch_normalization.BatchNormalization object at 0x7c90ab1f3f40>, <keras.src.layers.merging.add.Add object at 0x7c90b82f4a60>, <keras.src.layers.convolutional.conv2d.Conv2D object at 0x7c90b82f4af0>, <keras.src.layers.activation.leaky_relu.LeakyReLU object at 0x7c90b82f5270>, <keras.src.layers.merging.add.Add object at 0x7c90b82f54e0>, <keras.src.layers.convolutional.conv2d.Conv2D object at 0x7c90b82f55a0>, <keras.src.layers.activation.leaky_relu.LeakyReLU object at 0x7c90b82f5d20>, <keras.src.layers.merging.add.Add object at 0x7c90b82f5f90>, <keras.src.layers.convolutional.conv2d.Conv2D object at 0x7c90b82f6050>, <keras.src.layers.activation.leaky_relu.LeakyReLU object at 0x7c90b82f67d0>, <keras.src.layers.merging.add.Add object at 0x7c90b82f6a40>, <keras.src.layers.convolutional.conv2d.Conv2D object at 0x7c90b82f6b00>, <keras.src.layers.activation.leaky_relu.LeakyReLU object at 0x7c90b82f7280>, <keras.src.layers.merging.add.Add object at 0x7c90b82f74f0>, <keras.src.layers.convolutional.conv2d.Conv2D object at 0x7c90b82f75b0>, <keras.src.layers.normalization.batch_normalization.BatchNormalization object at 0x7c90b82f77f0>, <keras.src.layers.merging.add.Add object at 0x7c90b82f7d90>, <keras.src.layers.merging.add.Add object at 0x7c90b82b4520>, <keras.src.layers.convolutional.conv2d.Conv2D object at 0x7c90b82f7dc0>, <keras.src.layers.normalization.batch_normalization.BatchNormalization object at 0x7c90b82b4880>, <keras.src.layers.merging.add.Add object at 0x7c90b82b5360>, <keras.src.layers.convolutional.conv2d.Conv2D object at 0x7c90b82b53f0>, <keras.src.layers.reshaping.up_sampling2d.UpSampling2D object at 0x7c90b82b5630>, <keras.src.layers.activation.leaky_relu.LeakyReLU object at 0x7c90b82b5e70>, <keras.src.layers.convolutional.conv2d.Conv2D object at 0x7c90b82b5f30>, <keras.src.layers.reshaping.up_sampling2d.UpSampling2D object at 0x7c90b82b6140>, <keras.src.layers.activation.leaky_relu.LeakyReLU object at 0x7c90b82b6980>, <keras.src.layers.convolutional.conv2d.Conv2D object at 0x7c90b82b6a40>]\n"
          ]
        },
        {
          "output_type": "error",
          "ename": "IndexError",
          "evalue": "ignored",
          "traceback": [
            "\u001b[0;31m---------------------------------------------------------------------------\u001b[0m",
            "\u001b[0;31mIndexError\u001b[0m                                Traceback (most recent call last)",
            "\u001b[0;32m<ipython-input-22-807b109537d6>\u001b[0m in \u001b[0;36m<cell line: 53>\u001b[0;34m()\u001b[0m\n\u001b[1;32m     51\u001b[0m \u001b[0;34m\u001b[0m\u001b[0m\n\u001b[1;32m     52\u001b[0m \u001b[0mget_connectors\u001b[0m\u001b[0;34m(\u001b[0m\u001b[0;34m)\u001b[0m\u001b[0;34m\u001b[0m\u001b[0;34m\u001b[0m\u001b[0m\n\u001b[0;32m---> 53\u001b[0;31m \u001b[0mget_margins\u001b[0m\u001b[0;34m(\u001b[0m\u001b[0;34m)\u001b[0m\u001b[0;34m\u001b[0m\u001b[0;34m\u001b[0m\u001b[0m\n\u001b[0m",
            "\u001b[0;32m<ipython-input-22-807b109537d6>\u001b[0m in \u001b[0;36mget_margins\u001b[0;34m()\u001b[0m\n\u001b[1;32m     44\u001b[0m     \u001b[0mbatch_norms\u001b[0m \u001b[0;34m=\u001b[0m \u001b[0;34m[\u001b[0m\u001b[0ml\u001b[0m\u001b[0;34m.\u001b[0m\u001b[0mget_weights\u001b[0m\u001b[0;34m(\u001b[0m\u001b[0;34m)\u001b[0m \u001b[0;32mfor\u001b[0m \u001b[0ml\u001b[0m \u001b[0;32min\u001b[0m \u001b[0mTeacher\u001b[0m\u001b[0;34m.\u001b[0m\u001b[0mlayers\u001b[0m \u001b[0;32mif\u001b[0m \u001b[0misinstance\u001b[0m\u001b[0;34m(\u001b[0m\u001b[0ml\u001b[0m\u001b[0;34m,\u001b[0m \u001b[0mAccumulateNorm\u001b[0m\u001b[0;34m)\u001b[0m\u001b[0;34m]\u001b[0m\u001b[0;34m\u001b[0m\u001b[0;34m\u001b[0m\u001b[0m\n\u001b[1;32m     45\u001b[0m     \u001b[0mprint\u001b[0m\u001b[0;34m(\u001b[0m\u001b[0mTeacher\u001b[0m\u001b[0;34m.\u001b[0m\u001b[0mlayers\u001b[0m\u001b[0;34m)\u001b[0m\u001b[0;34m\u001b[0m\u001b[0;34m\u001b[0m\u001b[0m\n\u001b[0;32m---> 46\u001b[0;31m     \u001b[0mbatch_norms\u001b[0m \u001b[0;34m=\u001b[0m \u001b[0;34m[\u001b[0m\u001b[0mbatch_norms\u001b[0m\u001b[0;34m[\u001b[0m\u001b[0mi\u001b[0m\u001b[0;34m]\u001b[0m \u001b[0;32mfor\u001b[0m \u001b[0mi\u001b[0m \u001b[0;32min\u001b[0m \u001b[0;34m[\u001b[0m\u001b[0;36m2\u001b[0m\u001b[0;34m,\u001b[0m\u001b[0;36m12\u001b[0m\u001b[0;34m,\u001b[0m\u001b[0;36m16\u001b[0m\u001b[0;34m]\u001b[0m\u001b[0;34m]\u001b[0m\u001b[0;34m\u001b[0m\u001b[0;34m\u001b[0m\u001b[0m\n\u001b[0m\u001b[1;32m     47\u001b[0m     \u001b[0mmeans\u001b[0m \u001b[0;34m=\u001b[0m \u001b[0;34m[\u001b[0m\u001b[0mbn\u001b[0m\u001b[0;34m[\u001b[0m\u001b[0;36m0\u001b[0m\u001b[0;34m]\u001b[0m \u001b[0;32mfor\u001b[0m \u001b[0mbn\u001b[0m \u001b[0;32min\u001b[0m \u001b[0mbatch_norms\u001b[0m\u001b[0;34m]\u001b[0m\u001b[0;34m\u001b[0m\u001b[0;34m\u001b[0m\u001b[0m\n\u001b[1;32m     48\u001b[0m     \u001b[0mstds\u001b[0m \u001b[0;34m=\u001b[0m \u001b[0;34m[\u001b[0m\u001b[0mtf\u001b[0m\u001b[0;34m.\u001b[0m\u001b[0mmath\u001b[0m\u001b[0;34m.\u001b[0m\u001b[0msqrt\u001b[0m\u001b[0;34m(\u001b[0m\u001b[0mbn\u001b[0m\u001b[0;34m[\u001b[0m\u001b[0;36m1\u001b[0m\u001b[0;34m]\u001b[0m\u001b[0;34m)\u001b[0m \u001b[0;32mfor\u001b[0m \u001b[0mbn\u001b[0m \u001b[0;32min\u001b[0m \u001b[0mbatch_norms\u001b[0m\u001b[0;34m]\u001b[0m\u001b[0;34m\u001b[0m\u001b[0;34m\u001b[0m\u001b[0m\n",
            "\u001b[0;32m<ipython-input-22-807b109537d6>\u001b[0m in \u001b[0;36m<listcomp>\u001b[0;34m(.0)\u001b[0m\n\u001b[1;32m     44\u001b[0m     \u001b[0mbatch_norms\u001b[0m \u001b[0;34m=\u001b[0m \u001b[0;34m[\u001b[0m\u001b[0ml\u001b[0m\u001b[0;34m.\u001b[0m\u001b[0mget_weights\u001b[0m\u001b[0;34m(\u001b[0m\u001b[0;34m)\u001b[0m \u001b[0;32mfor\u001b[0m \u001b[0ml\u001b[0m \u001b[0;32min\u001b[0m \u001b[0mTeacher\u001b[0m\u001b[0;34m.\u001b[0m\u001b[0mlayers\u001b[0m \u001b[0;32mif\u001b[0m \u001b[0misinstance\u001b[0m\u001b[0;34m(\u001b[0m\u001b[0ml\u001b[0m\u001b[0;34m,\u001b[0m \u001b[0mAccumulateNorm\u001b[0m\u001b[0;34m)\u001b[0m\u001b[0;34m]\u001b[0m\u001b[0;34m\u001b[0m\u001b[0;34m\u001b[0m\u001b[0m\n\u001b[1;32m     45\u001b[0m     \u001b[0mprint\u001b[0m\u001b[0;34m(\u001b[0m\u001b[0mTeacher\u001b[0m\u001b[0;34m.\u001b[0m\u001b[0mlayers\u001b[0m\u001b[0;34m)\u001b[0m\u001b[0;34m\u001b[0m\u001b[0;34m\u001b[0m\u001b[0m\n\u001b[0;32m---> 46\u001b[0;31m     \u001b[0mbatch_norms\u001b[0m \u001b[0;34m=\u001b[0m \u001b[0;34m[\u001b[0m\u001b[0mbatch_norms\u001b[0m\u001b[0;34m[\u001b[0m\u001b[0mi\u001b[0m\u001b[0;34m]\u001b[0m \u001b[0;32mfor\u001b[0m \u001b[0mi\u001b[0m \u001b[0;32min\u001b[0m \u001b[0;34m[\u001b[0m\u001b[0;36m2\u001b[0m\u001b[0;34m,\u001b[0m\u001b[0;36m12\u001b[0m\u001b[0;34m,\u001b[0m\u001b[0;36m16\u001b[0m\u001b[0;34m]\u001b[0m\u001b[0;34m]\u001b[0m\u001b[0;34m\u001b[0m\u001b[0;34m\u001b[0m\u001b[0m\n\u001b[0m\u001b[1;32m     47\u001b[0m     \u001b[0mmeans\u001b[0m \u001b[0;34m=\u001b[0m \u001b[0;34m[\u001b[0m\u001b[0mbn\u001b[0m\u001b[0;34m[\u001b[0m\u001b[0;36m0\u001b[0m\u001b[0;34m]\u001b[0m \u001b[0;32mfor\u001b[0m \u001b[0mbn\u001b[0m \u001b[0;32min\u001b[0m \u001b[0mbatch_norms\u001b[0m\u001b[0;34m]\u001b[0m\u001b[0;34m\u001b[0m\u001b[0;34m\u001b[0m\u001b[0m\n\u001b[1;32m     48\u001b[0m     \u001b[0mstds\u001b[0m \u001b[0;34m=\u001b[0m \u001b[0;34m[\u001b[0m\u001b[0mtf\u001b[0m\u001b[0;34m.\u001b[0m\u001b[0mmath\u001b[0m\u001b[0;34m.\u001b[0m\u001b[0msqrt\u001b[0m\u001b[0;34m(\u001b[0m\u001b[0mbn\u001b[0m\u001b[0;34m[\u001b[0m\u001b[0;36m1\u001b[0m\u001b[0;34m]\u001b[0m\u001b[0;34m)\u001b[0m \u001b[0;32mfor\u001b[0m \u001b[0mbn\u001b[0m \u001b[0;32min\u001b[0m \u001b[0mbatch_norms\u001b[0m\u001b[0;34m]\u001b[0m\u001b[0;34m\u001b[0m\u001b[0;34m\u001b[0m\u001b[0m\n",
            "\u001b[0;31mIndexError\u001b[0m: list index out of range"
          ]
        }
      ]
    },
    {
      "cell_type": "code",
      "source": [
        "alpha =  1e-4\n",
        "lambda_ = 5e-2\n",
        "def _vgg(output_layer):\n",
        "    vgg = tf.keras.applications.vgg19.VGG19(input_shape=(None, None, 3), include_top=False)\n",
        "    return tf.keras.models.Model(vgg.input, vgg.layers[output_layer].output)\n",
        "\n",
        "\n",
        "def vgg_22():\n",
        "    return _vgg(5)\n",
        "\n",
        "\n",
        "def vgg_54():\n",
        "    return _vgg(20)\n",
        "\n",
        "perc_model = vgg_54()\n",
        "\n",
        "bce = tf.keras.losses.BinaryCrossentropy(from_logits=False)\n",
        "\n",
        "def content_loss(hr, sr):\n",
        "\n",
        "        sr = prep(sr)\n",
        "        hr = prep(hr)\n",
        "        sr_features = perc_model(sr, training=False) / 12.75\n",
        "        hr_features = perc_model(hr, training=False) / 12.75\n",
        "\n",
        "        return out_loss(hr_features, sr_features)\n",
        "\n",
        "\n",
        "def generator_adversarial_loss(sr_disc):\n",
        "\n",
        "        return bce (tf.ones_like(sr_disc), sr_disc) # Discriminator must output 1 for SR images\n",
        "\n",
        "\n",
        "def discriminator_adversarial_loss(hr_disc, sr_disc):\n",
        "\n",
        "        hr_loss = bce(tf.ones_like(hr_disc), hr_disc) # Discriminator must output 1 for HR images\n",
        "        sr_loss = bce(tf.zeros_like(sr_disc), sr_disc) # Discriminator must output 0 for SR images\n",
        "        return hr_loss + sr_loss\n",
        "\n",
        "\n",
        "def gradient_penalty(hr, sr):\n",
        "\n",
        "        eps = tf.random.uniform(np.array([sr.shape[0],1,1,1]), 0.0, 1.0, dtype=tf.float32)\n",
        "        x_hat = eps * hr + (1 - eps) * sr\n",
        "\n",
        "        with tf.GradientTape() as t:\n",
        "            t.watch(x_hat)\n",
        "            d_hat = discriminator(x_hat)\n",
        "\n",
        "        grads = t.gradient(d_hat, x_hat)\n",
        "        ddx = tf.sqrt(tf.reduce_sum(grads**2, axis=[1,2]))\n",
        "        d_reg = tf.reduce_mean((ddx-1.0)**2)\n",
        "\n",
        "        return d_reg\n",
        "\n",
        "\n",
        "def fakd_loss(ft, fs):\n",
        "\n",
        "        fs_n = tf.linalg.normalize(fs)[0]\n",
        "        fs_n = fs / tf.repeat(tf.norm(fs, ord='euclidean', axis=-1)[...,None],\n",
        "                              256,\n",
        "                              axis=-1)\n",
        "        fs_r = tf.reshape(fs_n, [len([2,4,8]),\n",
        "                                 1,\n",
        "                                 128 // 4 * 128 // 4,\n",
        "                                 256])\n",
        "        fs_T = tf.transpose(fs_r, [0,1,3,2])\n",
        "        a_s = tf.linalg.matmul(fs_r, fs_T)\n",
        "\n",
        "        ft_n = tf.linalg.normalize(ft)[0]\n",
        "        ft_r = tf.reshape(ft_n, [len([2, 12, 16]),\n",
        "                                 1,\n",
        "                                 128 // 4 * 128 // 4,\n",
        "                                 256])\n",
        "        ft_T = tf.transpose(ft_r, [0,1,3,2])\n",
        "        a_t = tf.linalg.matmul(ft_r, ft_T)\n",
        "\n",
        "        d = a_t - a_s\n",
        "        norm = tf.math.reduce_mean(tf.math.abs(d), axis=[1,2,3])\n",
        "        loss = tf.reduce_sum(norm)\n",
        "        #norm = tf.math.reduce_sum(tf.math.abs(d), axis=[0,2,3])\n",
        "        #loss = tf.reduce_mean(norm)\n",
        "\n",
        "        return loss\n",
        "out_loss = tf.keras.losses.MeanSquaredError()\n",
        "\n",
        "kl = tf.keras.losses.KLDivergence()\n",
        "gen_mean = tf.keras.metrics.Mean()\n",
        "disc_mean = tf.keras.metrics.Mean()\n",
        "prep = tf.keras.applications.vgg19.preprocess_input"
      ],
      "metadata": {
        "id": "WOwPGz2SZ7F0"
      },
      "execution_count": null,
      "outputs": []
    },
    {
      "cell_type": "code",
      "source": [
        "from tensorflow._api.v2.compat.v1 import float32\n",
        "fake_label = np.zeros((1, 1)) # Assign a label of 0 to all fake (generated images)\n",
        "real_label = np.ones((1, 1)) # Assign a label of 1 to all real images.\n",
        "\n",
        "g_losses = []\n",
        "d_losses = []\n",
        "\n",
        "#for i in range(len(lr_images)):\n",
        "for i in range(len(lr_train)):\n",
        "\n",
        "    with tf.GradientTape() as gen_tape, tf.GradientTape() as disc_tape:\n",
        "\n",
        "\n",
        "      lr = lr_train[i]\n",
        "      hr = hr_train[i]\n",
        "\n",
        "      lr = tf.cast(lr, tf.float32)\n",
        "      hr = tf.cast(hr, tf.float32)\n",
        "      lr = tf.expand_dims(lr, axis=0)\n",
        "      hr = tf.expand_dims(hr, axis=0)\n",
        "\n",
        "      sr, feats_s = gan_model([lr,hr], training=True)\n",
        "\n",
        "      print(sr.shape)\n",
        "\n",
        "      hr_disc = discriminator(hr, training=True)\n",
        "      sr_disc = discriminator(sr, training=True)\n",
        "\n",
        "      cont_loss = content_loss(hr, sr)\n",
        "      gen_adv_loss = generator_adversarial_loss(sr_disc)\n",
        "\n",
        "      print(cont_loss, gen_adv_loss)\n",
        "      cont_loss = tf.get_static_value(cont_loss)\n",
        "      gen_adv_loss = tf.get_static_value(gen_adv_loss)\n",
        "\n",
        "      perc_loss = cont_loss + alpha*(gen_adv_loss)\n",
        "\n",
        "      disc_adv_loss = discriminator_adversarial_loss(hr_disc, sr_disc)\n",
        "      disc_reg = gradient_penalty(hr, sr)\n",
        "\n",
        "      disc_loss = disc_adv_loss + 0.0*disc_reg\n",
        "\n",
        "      sr_t = Teacher(lr, training = False)\n",
        "      feats_t = vgg(sr_t)\n",
        "      out_kd_loss = out_loss(sr_t, sr)\n",
        "\n",
        "      feats_t = tf.gather(feats_t, [2,12,16])\n",
        "      feats_s = tf.gather(feats_s, [2,4,8])\n",
        "\n",
        "      print(feats_t.shape, feats_s.shape)\n",
        "\n",
        "      feats_t = tf.squeeze(feats_t)\n",
        "      feats_s = tf.squeeze(feats_s)\n",
        "\n",
        "      print(feats_t.shape, feats_s.shape)\n",
        "\n",
        "      feat_kd_loss = fakd_loss(feats_t, feats_s)\n",
        "      perc_loss += 1 * feat_kd_loss + 0.1 * out_kd_loss\n",
        "\n",
        "      gen_grads = gen_tape.gradient(perc_loss, gan_model.trainable_variables)\n",
        "      disc_grads = disc_tape.gradient(disc_loss, discriminator.trainable_variables)\n",
        "\n",
        "      optimizer_G.apply_gradients(zip(gen_grads, generator.trainable_variables))\n",
        "      optimizer_D.apply_gradients(zip(disc_grads, discriminator.trainable_variables))\n",
        "\n",
        "      d_losses.append(disc_loss)\n",
        "      g_losses.append(perc_loss)\n",
        "\n",
        "    print(\"Step: \" + int.__str__(i))\n",
        "\n",
        "    clear_output()\n",
        "\n",
        "#Convert the list of losses to an array\n",
        "g_losses = np.array(g_losses)\n",
        "d_losses = np.array(d_losses)\n",
        "\n",
        "    #Calculate the average losses for generator and discriminator\n",
        "g_loss = np.sum(g_losses, axis=0) / len(g_losses)\n",
        "d_loss = np.sum(d_losses, axis=0) / len(d_losses)\n",
        "\n",
        "generator.save(\"/content/drive/MyDrive/Image datasets/data/models/Student/gen2.h5\")\n",
        "\n",
        "\n"
      ],
      "metadata": {
        "colab": {
          "base_uri": "https://localhost:8080/"
        },
        "id": "v0rKcAyET4lu",
        "outputId": "5fee0e19-defc-489a-d95d-ba428bf68c7c"
      },
      "execution_count": null,
      "outputs": [
        {
          "output_type": "stream",
          "name": "stderr",
          "text": [
            "/usr/local/lib/python3.10/dist-packages/keras/src/engine/training.py:3079: UserWarning: You are saving your model as an HDF5 file via `model.save()`. This file format is considered legacy. We recommend using instead the native Keras format, e.g. `model.save('my_model.keras')`.\n",
            "  saving_api.save_model(\n",
            "WARNING:tensorflow:Compiled the loaded model, but the compiled metrics have yet to be built. `model.compile_metrics` will be empty until you train or evaluate the model.\n"
          ]
        }
      ]
    },
    {
      "cell_type": "code",
      "source": [
        "from keras.models import load_model\n",
        "from numpy.random import randint\n",
        "import tensorflow as tf\n",
        "\n",
        "generator = load_model('/content/drive/MyDrive/Image datasets/data/models/Student/gen2.h5', compile=True)\n",
        "\n",
        "optimizer = tf.keras.optimizers.Adam(learning_rate=0.0001, beta_1=0.9, beta_2=0.999, epsilon=None, weight_decay=0.0, amsgrad=False)\n",
        "\n",
        "generator.compile(optimizer=optimizer,\n",
        "              loss=[\"binary_crossentropy\", \"mse\"],\n",
        "              metrics=['accuracy'])\n",
        "\n",
        "[X1, X2] = [lr_test, hr_test]\n",
        "# select random example\n",
        "ix = randint(0, len(X1), 1)\n",
        "src_image, tar_image = X1[ix], X2[ix]\n",
        "\n",
        "# generate image from source\n",
        "gen_image = generator.predict(src_image)\n",
        "\n",
        "\n",
        "# plot all three images\n",
        "\n",
        "plt.figure(figsize=(16, 8))\n",
        "plt.subplot(231)\n",
        "plt.title('LR Image')\n",
        "plt.imshow(src_image[0,:,:,:])\n",
        "plt.subplot(232)\n",
        "plt.title('Superresolution')\n",
        "plt.imshow(gen_image[0,:,:,:])\n",
        "plt.subplot(233)\n",
        "plt.title('Orig. HR image')\n",
        "plt.imshow(tar_image[0,:,:,:])\n",
        "\n",
        "plt.show()"
      ],
      "metadata": {
        "id": "bXbuGe6T4B95"
      },
      "execution_count": null,
      "outputs": []
    }
  ]
}